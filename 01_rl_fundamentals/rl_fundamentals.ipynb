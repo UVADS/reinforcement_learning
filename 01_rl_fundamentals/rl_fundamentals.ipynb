{
 "cells": [
  {
   "cell_type": "markdown",
   "metadata": {},
   "source": [
    "## Fundamental Concepts of Reinforcement Learning\n",
    "\n",
    "### University of Virginia\n",
    "### Reinforcement Learning\n",
    "\n",
    "#### Last updated: January 16, 2024\n",
    "\n",
    "---"
   ]
  },
  {
   "cell_type": "markdown",
   "metadata": {},
   "source": [
    "\n",
    "### SOURCES \n",
    "\n",
    "Reinforcement Learning, RS Sutton & AG Barto, 2nd edition. Chapter 1\n",
    "\n",
    "### LEARNING OUTCOMES\n",
    "\n",
    "- Understand how reinforcement learning is different from other machine learning problems\n",
    "- Understand the key elements of RL\n",
    "- Distinguish between reward and value\n",
    "- Distinguish between exploration and exploitation, explaining the tradeoff in value discovery\n",
    "- Understand the difference between behavior policy and target policy\n",
    "\n",
    "### CONCEPTS\n",
    "\n",
    "- Reinforcement learning\n",
    "- agent\n",
    "- environment\n",
    "- state\n",
    "- action\n",
    "- reward\n",
    "- exploration vs exploitation\n",
    "- behavior policy and target policy\n",
    "- $\\epsilon$-greedy strategies\n",
    "\n",
    "---"
   ]
  },
  {
   "cell_type": "markdown",
   "metadata": {},
   "source": [
    "### Essential idea of Reinforcement Learning\n",
    "\n",
    "In this branch of machine learning, an *agent* learns by interacting with its *environment.*  \n",
    "An agent may be a human, robot, etc.  \n",
    "The agent has a goal: to maximize a quantitative measure of *reward*.\n",
    "\n",
    "In many situations, the ground truth is not known:\n",
    "\n",
    "- a patient is treated for sepsis, a life-threatening emergency. what is the best treatment? \n",
    "- an investor must select from a universe of investments, managing portfolio risk and return over time. what is the best policy for dynamic allocation?\n",
    "\n",
    "In other situations, we may have access to stale ground truths. This is common in dynamic environments:\n",
    "\n",
    "- trends and levels before versus during a pandemic\n",
    "- adversarial environments like finance and fraud where agents adapt their behavior\n",
    "- patient health following injury or illness\n",
    "\n",
    "\n",
    "Contrast with Supervised Learning (SL) where ground truth is provided up front.\n",
    "\n",
    "Contrast with Unsupervised Learning (UL) where structure is uncovered from unlabeled data.\n",
    "\n",
    "---"
   ]
  },
  {
   "cell_type": "markdown",
   "metadata": {},
   "source": [
    "### Actions Play an Essential Role\n",
    "\n",
    "Modeling generally involves the state:\n",
    "\n",
    "- predict if a check is fraudulent\n",
    "- predict if a stock price will rise\n",
    "- predict if a patient will be readmitted\n",
    "\n",
    "An exciting addition in reinforcement learning:\n",
    "\n",
    "We want to make predictions and control systems **given a state and an action taken**:\n",
    "\n",
    "- what will happen if an agent takes action $a$ in state $s$?\n",
    "\n",
    "This is fundamentally different and very exciting!\n",
    "\n",
    "---"
   ]
  },
  {
   "cell_type": "markdown",
   "metadata": {},
   "source": [
    "The RL problem is often visualized with this loop, explained below:"
   ]
  },
  {
   "cell_type": "markdown",
   "metadata": {},
   "source": [
    "<img src=\"./rl_graphic.png\" alt=\"drawing\" width=\"500\"/>"
   ]
  },
  {
   "cell_type": "markdown",
   "metadata": {},
   "source": [
    "**Agent and Environment**  \n",
    "\n",
    "The agent might be a person, a robot or other being that registers sensations from the \"external surroundings.\"\n",
    "\n",
    "Consider tracking a person's pulse. While pulse is generated in the body, it is measured by an external device. Pulse is considered part of the environment."
   ]
  },
  {
   "cell_type": "markdown",
   "metadata": {},
   "source": [
    "**State**  "
   ]
  },
  {
   "cell_type": "markdown",
   "metadata": {},
   "source": [
    "The *state* reflects all relevant information sensed by the agent about its environment.  \n",
    "In patient health, this might be vital signs and medications.  \n",
    "\n",
    "The set of all states is called the *state space.*"
   ]
  },
  {
   "cell_type": "markdown",
   "metadata": {},
   "source": [
    "**Action**"
   ]
  },
  {
   "cell_type": "markdown",
   "metadata": {},
   "source": [
    "The *actions* represent the controls available to the agent from each state.  \n",
    "A robot might move one step left, right, forward or backward at each point in time.\n",
    "\n",
    "The set of all actions is called the *action space.*"
   ]
  },
  {
   "cell_type": "markdown",
   "metadata": {},
   "source": [
    "**Reward**"
   ]
  },
  {
   "cell_type": "markdown",
   "metadata": {},
   "source": [
    "The *reward* is essential in defining the problem goal.  \n",
    "After the agent executes a step, the environment sends the agent a reward, which is a number.  \n",
    "\n",
    "The reward is short term in nature.  \n",
    "The reward is a scalar value.  \n",
    "Selecting actions based on a single reward (greedy actions) may be suboptimal as it may limit future rewards\n",
    "\n",
    "The agent needs to act strategically to maximize long-term reward."
   ]
  },
  {
   "cell_type": "markdown",
   "metadata": {},
   "source": [
    "**Policies**"
   ]
  },
  {
   "cell_type": "markdown",
   "metadata": {},
   "source": [
    "A *policy* is a function that maps each state to an action. It represents how the agent will behave in each state.  \n",
    "\n",
    "The policy must cover the entire state space.\n",
    "\n",
    "The policy might be \n",
    "- deterministic (each action produces a single state)\n",
    "- stochastic (actions produce a distribution of state values). this case is more complex. Example: from state $s_1$, move left with probability 90% and right with probability 10%."
   ]
  },
  {
   "cell_type": "markdown",
   "metadata": {},
   "source": [
    "**Value function**"
   ]
  },
  {
   "cell_type": "markdown",
   "metadata": {},
   "source": [
    "The *value function* represents the long-term value of a state.  \n",
    "This is quantified as the sum of all expected discounted rewards.\n",
    "\n",
    "Action choices are made based on value judgements."
   ]
  },
  {
   "cell_type": "markdown",
   "metadata": {},
   "source": [
    "**Discounting**"
   ]
  },
  {
   "cell_type": "markdown",
   "metadata": {},
   "source": [
    "Reflecting time value of money, future rewards are discounted at rate $\\gamma$ per time step "
   ]
  },
  {
   "cell_type": "markdown",
   "metadata": {},
   "source": [
    "**Model of environment**"
   ]
  },
  {
   "cell_type": "markdown",
   "metadata": {},
   "source": [
    "Given a state *s* and action *a*, the next state and reward need to be determined.  \n",
    "In some cases, a model is used to inform the agent of the result from taking action *a* in state *s*.  \n",
    "The model needs to accurately reflect the environment.\n",
    "\n",
    "Model-free approaches use trial and error. This works for video games but not healthcare, for example, where caregivers generally can't liberally experiment."
   ]
  },
  {
   "cell_type": "markdown",
   "metadata": {},
   "source": [
    "**Exploration vs Exploitation**"
   ]
  },
  {
   "cell_type": "markdown",
   "metadata": {},
   "source": [
    "The true value of a state needs to be estimated and it follows a distribution. There is generally uncertainty.  \n",
    "As we take action to visit each state, we approximate the true values.  \n",
    "\n",
    "We might choose to stick with a state with estimated maximal value, not realizing it to be suboptimal.  \n",
    "Staying with the state is called *exploitation*. This is the greedy action, as the agent selects the highest short-term reward.  \n",
    "Acting greedily might limit the possibility for greater long-term gain, so it is important to explore early on.\n",
    "\n",
    "\n",
    "Trying the other states is called *exploration*.  \n",
    "\n",
    "There is a **tradeoff between exploitation and exploration:**  \n",
    "in the short run, exploration might produce lower rewards, but the hope is to learn the true maximal state."
   ]
  },
  {
   "cell_type": "markdown",
   "metadata": {},
   "source": [
    "**Behavioral Policy vs Target Policy** \n",
    "\n",
    "Related to the concept of exploration vs exploitation are two important policies:\n",
    "\n",
    "- the *target policy* is the policy that an agent is trying to learn\n",
    "- the *behavior policy* is the policy being used by an agent \n",
    "\n",
    "To more efficiently learn, it can help the agent to follow the behavior policy (this amounts to exploring).\n",
    "\n",
    "Later we will talk about off-policy methods for learning, which use the target and behavior policies."
   ]
  },
  {
   "cell_type": "markdown",
   "metadata": {},
   "source": [
    "**$\\epsilon$-greedy Methods**"
   ]
  },
  {
   "cell_type": "markdown",
   "metadata": {},
   "source": [
    "A reasonable method for finding more valuable states is to exploit for the majority of the time, and explore a small fraction of the time.\n",
    "\n",
    "In this strategy, the agent selects action with maximal value (it exploits) with fraction 1-$\\epsilon$  \n",
    "and selects a random action with fraction $\\epsilon$ (it explores).\n",
    "\n"
   ]
  },
  {
   "cell_type": "code",
   "execution_count": 1,
   "metadata": {},
   "outputs": [],
   "source": [
    "import matplotlib.pyplot as plt\n",
    "import numpy as np\n",
    "import random"
   ]
  },
  {
   "cell_type": "code",
   "execution_count": 2,
   "metadata": {},
   "outputs": [],
   "source": [
    "action_values = [1, -1, 0, 2]\n",
    "epsilon = 0.05"
   ]
  },
  {
   "cell_type": "markdown",
   "metadata": {},
   "source": [
    "$\\epsilon$-greedy selection"
   ]
  },
  {
   "cell_type": "code",
   "execution_count": 3,
   "metadata": {},
   "outputs": [],
   "source": [
    "def act(epsilon, action_values):\n",
    "    action_size = len(action_values)\n",
    "    if np.random.rand() <= epsilon: # random draw with prob epsilon\n",
    "        return random.randrange(action_size)\n",
    "    return np.argmax(action_values)  # returns action"
   ]
  },
  {
   "cell_type": "markdown",
   "metadata": {},
   "source": [
    "Take action following $\\epsilon$-greedy strategy"
   ]
  },
  {
   "cell_type": "code",
   "execution_count": 4,
   "metadata": {},
   "outputs": [
    {
     "data": {
      "text/plain": [
       "3"
      ]
     },
     "execution_count": 4,
     "metadata": {},
     "output_type": "execute_result"
    }
   ],
   "source": [
    "act(epsilon, action_values)"
   ]
  },
  {
   "cell_type": "markdown",
   "metadata": {},
   "source": [
    "Repeat 1000x and produce histogram"
   ]
  },
  {
   "cell_type": "code",
   "execution_count": 5,
   "metadata": {},
   "outputs": [
    {
     "data": {
      "image/png": "[encoded data removed]",
      "text/plain": [
       "<Figure size 432x288 with 1 Axes>"
      ]
     },
     "metadata": {
      "needs_background": "light"
     },
     "output_type": "display_data"
    }
   ],
   "source": [
    "plt.hist([act(epsilon, action_values) for i in range(1000)])\n",
    "plt.show()"
   ]
  },
  {
   "cell_type": "markdown",
   "metadata": {},
   "source": [
    "**Exercise 1**  \n",
    "Given $\\epsilon$=0.05, what fraction of the time do we expect to select the highest-valued action?  \n",
    "This would include selection by both chance and intention.  \n",
    "Try simulating this and checking if the result matches your intuition."
   ]
  },
  {
   "cell_type": "code",
   "execution_count": null,
   "metadata": {},
   "outputs": [],
   "source": []
  },
  {
   "cell_type": "code",
   "execution_count": 38,
   "metadata": {
    "collapsed": true,
    "jupyter": {
     "outputs_hidden": true,
     "source_hidden": true
    },
    "tags": []
   },
   "outputs": [
    {
     "data": {
      "text/plain": [
       "0.96224"
      ]
     },
     "execution_count": 38,
     "metadata": {},
     "output_type": "execute_result"
    }
   ],
   "source": [
    "epsilon = 0.05\n",
    "# simulate the values\n",
    "vals = [act(epsilon, action_values) for i in range(100000)]\n",
    "# compute fraction of actions = 3\n",
    "len([v for v in vals if v == 3]) / len(vals)"
   ]
  },
  {
   "cell_type": "markdown",
   "metadata": {
    "jupyter": {
     "source_hidden": true
    },
    "tags": []
   },
   "source": [
    "Exercise 1 Soln:\n",
    "\n",
    "by intention: 95%  \n",
    "by chance:    (1/4) * 5%  \n",
    "total = 96.25%"
   ]
  }
 ],
 "metadata": {
  "kernelspec": {
   "display_name": "Python 3 (ipykernel)",
   "language": "python",
   "name": "python3"
  },
  "language_info": {
   "codemirror_mode": {
    "name": "ipython",
    "version": 3
   },
   "file_extension": ".py",
   "mimetype": "text/x-python",
   "name": "python",
   "nbconvert_exporter": "python",
   "pygments_lexer": "ipython3",
   "version": "3.12.4"
  }
 },
 "nbformat": 4,
 "nbformat_minor": 4
}
