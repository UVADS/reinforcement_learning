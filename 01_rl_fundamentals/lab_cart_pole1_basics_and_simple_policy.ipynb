{
 "cells": [
  {
   "cell_type": "markdown",
   "metadata": {
    "id": "-GBod1nv65dN"
   },
   "source": [
    "## Lab: Cart Pole using OpenAI gym\n",
    "## RL Basics and Simple Policy\n",
    "\n",
    "### University of Virginia\n",
    "### Reinforcement Learning\n",
    "#### Last updated: February 26, 2024\n",
    "\n",
    "---\n"
   ]
  },
  {
   "cell_type": "markdown",
   "metadata": {
    "id": "sSQ7PneAB_XJ"
   },
   "source": [
    "#### Instructions:  \n",
    "\n",
    "Carefully read the notes below and run the provided code. Answer each question clearly and show all results.\n",
    "\n",
    "#### TOTAL POINTS: 10\n",
    "\n",
    "---"
   ]
  },
  {
   "cell_type": "markdown",
   "metadata": {
    "id": "krpOsEbE_aTj"
   },
   "source": [
    "### Agent and Environment\n",
    "\n",
    "It is essential for the agent to have a way to get the next state and reward from the environment.\n",
    "\n",
    "Sometimes it is possible for the agent to interact with environment in real life, but often this is expensive / dangerous / impossible.\n",
    "\n",
    "We use models and simulators in this latter case.\n",
    "\n",
    "For this reason, the Gym package is useful in RL\n",
    "\n",
    "**Note**: Going forward, the fork [gymnasium](https://gymnasium.farama.org/) will maintain OpenAI gym.  \n",
    "We will be using `gymnasium` but will still refer to the environment as `gym` when it doesn't cause confusion.\n",
    "\n",
    "---"
   ]
  },
  {
   "cell_type": "markdown",
   "metadata": {
    "id": "fVwAKKjUBxFT"
   },
   "source": [
    "### Introduction to Gym\n",
    "\n",
    "Gym is a toolkit for developing and comparing RL algorithms.\n",
    "\n",
    "It comes with many pre-built environments which have functionality to emulate physical environments.\n",
    "\n",
    "Users can build their own custom environments. See [here](https://towardsdatascience.com/creating-a-custom-openai-gym-environment-for-stock-trading-be532be3910e#:~:text=8%20min%20read-,Create%20custom%20gym%20environments%20from%20scratch%20%E2%80%94%20A%20stock%20market%20example,Atari%20games%20to%20experiment%20with.) for example.\n",
    "\n",
    "---"
   ]
  },
  {
   "cell_type": "markdown",
   "metadata": {
    "id": "jUTU3338AvT9"
   },
   "source": [
    "### Cart Pole Problem\n",
    "\n",
    "The **CartPole** problem has a small state space and action space, so it's popular for illustrating ideas.\n",
    "\n",
    "Pole is attached to a cart on a frictionless track.\n",
    "\n",
    "Pole starts upright\n",
    "\n",
    "**Goal** is to keep pole from falling over\n",
    "\n",
    "Control system by applying **force** -1 or +1 to cart.\n",
    "\n",
    "**Reward** of +1 for each timestep the pole remains upright\n",
    "\n",
    "**Episode** ends when pole is more than 12 degrees from vertical, or cart moves more than 2.4 units from center\n",
    "\n",
    "CartPole-v1 defines *solving* as getting average reward of 195.0 over 100 consecutive trials."
   ]
  },
  {
   "cell_type": "markdown",
   "metadata": {
    "id": "OyoCL_8lB_XK"
   },
   "source": [
    "<img src=\"./cartpole.png\" alt=\"drawing\" width=\"150\"/>"
   ]
  },
  {
   "cell_type": "markdown",
   "metadata": {
    "id": "BGiRrboBB_XK"
   },
   "source": [
    "---"
   ]
  },
  {
   "cell_type": "markdown",
   "metadata": {
    "id": "rA_dd0h6Eoap"
   },
   "source": [
    "### Setup and First Steps"
   ]
  },
  {
   "cell_type": "markdown",
   "metadata": {
    "id": "OgSNDjuzow2U"
   },
   "source": [
    "This notebook can be easily run on [Google Colab](https://colab.research.google.com/)"
   ]
  },
  {
   "cell_type": "code",
   "execution_count": 1,
   "metadata": {
    "colab": {
     "base_uri": "https://localhost:8080/"
    },
    "id": "ee6amSyRCEXI",
    "outputId": "bd84b488-55af-4ed3-f609-771408947b8b"
   },
   "outputs": [
    {
     "name": "stdout",
     "output_type": "stream",
     "text": [
      "Requirement already satisfied: gymnasium in /usr/local/lib/python3.10/dist-packages (0.29.1)\n",
      "Requirement already satisfied: numpy>=1.21.0 in /usr/local/lib/python3.10/dist-packages (from gymnasium) (1.25.2)\n",
      "Requirement already satisfied: cloudpickle>=1.2.0 in /usr/local/lib/python3.10/dist-packages (from gymnasium) (2.2.1)\n",
      "Requirement already satisfied: typing-extensions>=4.3.0 in /usr/local/lib/python3.10/dist-packages (from gymnasium) (4.9.0)\n",
      "Requirement already satisfied: farama-notifications>=0.0.1 in /usr/local/lib/python3.10/dist-packages (from gymnasium) (0.0.4)\n"
     ]
    }
   ],
   "source": [
    "! pip install gymnasium"
   ]
  },
  {
   "cell_type": "markdown",
   "metadata": {
    "id": "urwN9CGQkNVd"
   },
   "source": [
    "We can use [renderlab](https://github.com/ryanrudes/renderlab/tree/main) to visualize *results*"
   ]
  },
  {
   "cell_type": "code",
   "execution_count": 2,
   "metadata": {
    "colab": {
     "base_uri": "https://localhost:8080/"
    },
    "id": "1heW7w14hYfP",
    "outputId": "7b660252-6059-422a-c2e0-5cffcc803002"
   },
   "outputs": [
    {
     "name": "stdout",
     "output_type": "stream",
     "text": [
      "Requirement already satisfied: renderlab in /usr/local/lib/python3.10/dist-packages (0.1.20230421184216)\n",
      "Requirement already satisfied: moviepy in /usr/local/lib/python3.10/dist-packages (from renderlab) (1.0.3)\n",
      "Requirement already satisfied: gymnasium in /usr/local/lib/python3.10/dist-packages (from renderlab) (0.29.1)\n",
      "Requirement already satisfied: numpy>=1.21.0 in /usr/local/lib/python3.10/dist-packages (from gymnasium->renderlab) (1.25.2)\n",
      "Requirement already satisfied: cloudpickle>=1.2.0 in /usr/local/lib/python3.10/dist-packages (from gymnasium->renderlab) (2.2.1)\n",
      "Requirement already satisfied: typing-extensions>=4.3.0 in /usr/local/lib/python3.10/dist-packages (from gymnasium->renderlab) (4.9.0)\n",
      "Requirement already satisfied: farama-notifications>=0.0.1 in /usr/local/lib/python3.10/dist-packages (from gymnasium->renderlab) (0.0.4)\n",
      "Requirement already satisfied: decorator<5.0,>=4.0.2 in /usr/local/lib/python3.10/dist-packages (from moviepy->renderlab) (4.4.2)\n",
      "Requirement already satisfied: tqdm<5.0,>=4.11.2 in /usr/local/lib/python3.10/dist-packages (from moviepy->renderlab) (4.66.2)\n",
      "Requirement already satisfied: requests<3.0,>=2.8.1 in /usr/local/lib/python3.10/dist-packages (from moviepy->renderlab) (2.31.0)\n",
      "Requirement already satisfied: proglog<=1.0.0 in /usr/local/lib/python3.10/dist-packages (from moviepy->renderlab) (0.1.10)\n",
      "Requirement already satisfied: imageio<3.0,>=2.5 in /usr/local/lib/python3.10/dist-packages (from moviepy->renderlab) (2.31.6)\n",
      "Requirement already satisfied: imageio-ffmpeg>=0.2.0 in /usr/local/lib/python3.10/dist-packages (from moviepy->renderlab) (0.4.9)\n",
      "Requirement already satisfied: pillow<10.1.0,>=8.3.2 in /usr/local/lib/python3.10/dist-packages (from imageio<3.0,>=2.5->moviepy->renderlab) (9.4.0)\n",
      "Requirement already satisfied: setuptools in /usr/local/lib/python3.10/dist-packages (from imageio-ffmpeg>=0.2.0->moviepy->renderlab) (67.7.2)\n",
      "Requirement already satisfied: charset-normalizer<4,>=2 in /usr/local/lib/python3.10/dist-packages (from requests<3.0,>=2.8.1->moviepy->renderlab) (3.3.2)\n",
      "Requirement already satisfied: idna<4,>=2.5 in /usr/local/lib/python3.10/dist-packages (from requests<3.0,>=2.8.1->moviepy->renderlab) (3.6)\n",
      "Requirement already satisfied: urllib3<3,>=1.21.1 in /usr/local/lib/python3.10/dist-packages (from requests<3.0,>=2.8.1->moviepy->renderlab) (2.0.7)\n",
      "Requirement already satisfied: certifi>=2017.4.17 in /usr/local/lib/python3.10/dist-packages (from requests<3.0,>=2.8.1->moviepy->renderlab) (2024.2.2)\n"
     ]
    }
   ],
   "source": [
    "! pip install renderlab"
   ]
  },
  {
   "cell_type": "code",
   "execution_count": 3,
   "metadata": {
    "id": "ed_DyvHy6pbh"
   },
   "outputs": [],
   "source": [
    "import gymnasium as gym\n",
    "import renderlab as rl"
   ]
  },
  {
   "cell_type": "markdown",
   "metadata": {
    "id": "KA4JgtuL5jC9"
   },
   "source": [
    "Load the environment"
   ]
  },
  {
   "cell_type": "code",
   "execution_count": 4,
   "metadata": {
    "colab": {
     "base_uri": "https://localhost:8080/"
    },
    "id": "UcGLRi6F6vcQ",
    "outputId": "98e866b3-b372-4261-a3ec-132dbef43d13"
   },
   "outputs": [
    {
     "name": "stdout",
     "output_type": "stream",
     "text": [
      "(array([0.04225422, 0.02126478, 0.02520455, 0.00700802], dtype=float32), {})\n"
     ]
    }
   ],
   "source": [
    "env = gym.make(\"CartPole-v1\", render_mode = \"rgb_array\")\n",
    "\n",
    "state = env.reset(seed=314)\n",
    "print(state)"
   ]
  },
  {
   "cell_type": "markdown",
   "metadata": {
    "id": "VtQFJsxj7aBj"
   },
   "source": [
    "Given the state, we take an action. The next state comes from the environment, which is encoded in `gym`.\n",
    "\n",
    "The first element holds components:   \n",
    "[0]: cart horizontal position (0.0 = center)  \n",
    "[1]: velocity (positive means right)  \n",
    "[2]: angle of the pole (0.0 = vertical)  \n",
    "[3]: pole's angular velocity (positive means clockwise)"
   ]
  },
  {
   "cell_type": "code",
   "execution_count": 5,
   "metadata": {
    "colab": {
     "base_uri": "https://localhost:8080/"
    },
    "id": "7A5peNKiBXsh",
    "outputId": "361d7897-8465-4297-e535-a855e89eaf73"
   },
   "outputs": [
    {
     "data": {
      "text/plain": [
       "4"
      ]
     },
     "execution_count": 5,
     "metadata": {},
     "output_type": "execute_result"
    }
   ],
   "source": [
    "# state space number of components\n",
    "env.observation_space.shape[0]"
   ]
  },
  {
   "cell_type": "markdown",
   "metadata": {
    "id": "8GkZmsIN7ky6"
   },
   "source": [
    "The action space consists of two options:\n",
    "\n",
    "[0]: move cart left   \n",
    "[1]: move cart right"
   ]
  },
  {
   "cell_type": "code",
   "execution_count": 6,
   "metadata": {
    "colab": {
     "base_uri": "https://localhost:8080/"
    },
    "id": "ySQ8EpsV7Ngr",
    "outputId": "9fe33c7c-d829-478c-9db1-a07f27c49f50"
   },
   "outputs": [
    {
     "data": {
      "text/plain": [
       "Discrete(2)"
      ]
     },
     "execution_count": 6,
     "metadata": {},
     "output_type": "execute_result"
    }
   ],
   "source": [
    "env.action_space"
   ]
  },
  {
   "cell_type": "markdown",
   "metadata": {
    "id": "_68lpUuVCc-_"
   },
   "source": [
    "Let's take an action, draw a sample and look at the results."
   ]
  },
  {
   "cell_type": "code",
   "execution_count": 7,
   "metadata": {
    "colab": {
     "base_uri": "https://localhost:8080/"
    },
    "id": "gKFEIHjL7n7h",
    "outputId": "dc621ecf-255d-46e9-c478-851804bf092f"
   },
   "outputs": [
    {
     "name": "stdout",
     "output_type": "stream",
     "text": [
      "state [ 0.04267951  0.21601637  0.02534471 -0.27761722]\n",
      "reward 1.0\n",
      "done False\n",
      "info {}\n"
     ]
    }
   ],
   "source": [
    "# move right\n",
    "action = 1\n",
    "\n",
    "# take a step and get next state, reward from environment\n",
    "state, reward, terminated, truncated, info = env.step(action)\n",
    "done = terminated or truncated\n",
    "\n",
    "print('state', state)\n",
    "print('reward', reward)\n",
    "print('done', done)\n",
    "print('info', info)"
   ]
  },
  {
   "cell_type": "markdown",
   "metadata": {
    "id": "QdXm61SyB_XO"
   },
   "source": [
    "**Note about DONE**  \n",
    "We need to understand if the episode is done after taking action  \n",
    "\n",
    "The API now gives more detail on this variable, which may reach `done` state for two reasons:  \n",
    "- **terminated**=True if environment terminates (eg. due to task completion, failure etc.)  \n",
    "- **truncated**=True if episode truncates due to a time limit or a reason that is not defined as part of the task MDP."
   ]
  },
  {
   "cell_type": "markdown",
   "metadata": {
    "id": "CdXO_KsfB_XO"
   },
   "source": [
    "**Run several steps by taking random actions**  "
   ]
  },
  {
   "cell_type": "code",
   "execution_count": 8,
   "metadata": {
    "colab": {
     "base_uri": "https://localhost:8080/"
    },
    "id": "IG-HlLwDB_XO",
    "outputId": "98769cb1-8e88-40ae-9cac-933382229e58"
   },
   "outputs": [
    {
     "name": "stdout",
     "output_type": "stream",
     "text": [
      "(array([ 0.04267951,  0.21601637,  0.02534471, -0.27761722], dtype=float32), 1.0, False, False, {})\n",
      "(array([ 0.04699984,  0.41076773,  0.01979236, -0.56219995], dtype=float32), 1.0, False, False, {})\n",
      "(array([ 0.05521519,  0.60560644,  0.00854836, -0.84858215], dtype=float32), 1.0, False, False, {})\n",
      "(array([ 0.06732732,  0.8006108 , -0.00842328, -1.1385647 ], dtype=float32), 1.0, False, False, {})\n",
      "(array([ 0.08333954,  0.99584186, -0.03119457, -1.4338773 ], dtype=float32), 1.0, False, False, {})\n"
     ]
    }
   ],
   "source": [
    "state = env.reset(seed=314)\n",
    "for _ in range(5):\n",
    "    print(env.step(env.action_space.sample())) # take a random action"
   ]
  },
  {
   "cell_type": "markdown",
   "metadata": {
    "id": "BPJ5pHxPjFNl"
   },
   "source": [
    "**Run an epoch by taking random actions. Visualize the results.**  "
   ]
  },
  {
   "cell_type": "code",
   "execution_count": 11,
   "metadata": {
    "colab": {
     "base_uri": "https://localhost:8080/",
     "height": 580
    },
    "id": "6DTMm3offzGh",
    "outputId": "c014b435-a7ea-4b8a-e93d-d03a839fc691"
   },
   "outputs": [
    {
     "name": "stdout",
     "output_type": "stream",
     "text": [
      "Moviepy - Building video temp-{start}.mp4.\n",
      "Moviepy - Writing video temp-{start}.mp4\n",
      "\n"
     ]
    },
    {
     "name": "stderr",
     "output_type": "stream",
     "text": [
      "t:  51%|█████▏    | 20/39 [00:00<00:00, 193.40it/s, now=None]WARNING:py.warnings:/usr/local/lib/python3.10/dist-packages/moviepy/video/io/ffmpeg_reader.py:123: UserWarning: Warning: in file ./output/1708953696.1305635.mp4, 720000 bytes wanted but 0 bytes read,at frame 38/39, at time 1.27/1.27 sec. Using the last valid frame instead.\n",
      "  warnings.warn(\"Warning: in file %s, \"%(self.filename)+\n",
      "\n"
     ]
    },
    {
     "name": "stdout",
     "output_type": "stream",
     "text": [
      "Moviepy - Done !\n",
      "Moviepy - video ready temp-{start}.mp4\n"
     ]
    },
    {
     "data": {
      "text/html": [
       "<video controls  >\n",
       " <source src=\"data:video/mp4;base64,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\" type=\"video/mp4\">\n",
       " Your browser does not support the video tag.\n",
       " </video>"
      ],
      "text/plain": [
       "<IPython.core.display.Video object>"
      ]
     },
     "metadata": {},
     "output_type": "display_data"
    }
   ],
   "source": [
    "env = rl.RenderFrame(env, \"./output\")\n",
    "\n",
    "observation, info = env.reset()\n",
    "\n",
    "while True:\n",
    "    action = env.action_space.sample()\n",
    "    observation, reward, terminated, truncated, info = env.step(action)\n",
    "\n",
    "    if terminated or truncated:\n",
    "      break\n",
    "\n",
    "env.play()"
   ]
  },
  {
   "cell_type": "markdown",
   "metadata": {
    "id": "bqxI0vej88Kh"
   },
   "source": [
    "**Reward and Episode**  \n",
    "\n",
    "For each time step that the cart keeps the pole balanced, it earns reward 1.\n",
    "\n",
    "If the pole tilts too much or if the cart moves off screen, `reward=0` and `done=True` (the episode will end).\n",
    "\n",
    "When the episode ends, a new episode may begin. The process learns cumulatively from each episode.\n",
    "\n",
    "---"
   ]
  },
  {
   "cell_type": "markdown",
   "metadata": {
    "id": "Yv5gKVde9pvQ"
   },
   "source": [
    "#### 1) Defining a function that runs a simple policy\n",
    "**(POINTS: 1)**\n",
    "\n",
    "When the pole leans left (negative angle), move left. When the pole leans right (positive angle), move right.  \n",
    "\n",
    "The function should take the state and return an action. Test that it works properly.  "
   ]
  },
  {
   "cell_type": "code",
   "execution_count": null,
   "metadata": {
    "id": "yhUJFaaJB_XP"
   },
   "outputs": [],
   "source": []
  },
  {
   "cell_type": "markdown",
   "metadata": {
    "id": "wIq0UJphB_XP"
   },
   "source": [
    "#### 2) Simulating episodes with the simple policy  \n",
    "\n",
    "2a) **(POINTS: 2)** Run 1000 episodes each with 100 time steps. Use the `simple_policy` for taking actions.  \n",
    "Each time step will call the `step()` method to get the next state and reward. Produce a boxplot of the rewards from each episode."
   ]
  },
  {
   "cell_type": "code",
   "execution_count": null,
   "metadata": {
    "id": "CnyTiBu-B_XP"
   },
   "outputs": [],
   "source": []
  },
  {
   "cell_type": "markdown",
   "metadata": {
    "id": "3vCGs_zlB_XP"
   },
   "source": [
    "2b) **(POINTS: 1)** Is this policy able to solve the cart pole problem? Explain your answer."
   ]
  },
  {
   "cell_type": "markdown",
   "metadata": {
    "id": "UXJhJRMaB_XP"
   },
   "source": []
  },
  {
   "cell_type": "markdown",
   "metadata": {
    "id": "5Iz7bmXTB_XP"
   },
   "source": [
    "#### 3) From Question [2], what is the mean and maximum reward (roughly)?\n",
    "**(POINTS: 1)**"
   ]
  },
  {
   "cell_type": "code",
   "execution_count": null,
   "metadata": {
    "id": "owuzui2wB_XP"
   },
   "outputs": [],
   "source": []
  },
  {
   "cell_type": "markdown",
   "metadata": {
    "id": "gnH4J3988wNe"
   },
   "source": [
    "#### 4) Reversed Simple Policy\n",
    "**(POINTS: 2)**\n",
    "\n",
    "What happens if you reverse the simple policy, moving left when the pole leans right, and moving right when the pole leans left? This is not a good idea, but it's instructive. To show the result, produce the boxplot from before, and calculate the mean reward."
   ]
  },
  {
   "cell_type": "code",
   "execution_count": null,
   "metadata": {
    "id": "YyoOpgHpB_XQ"
   },
   "outputs": [],
   "source": []
  },
  {
   "cell_type": "markdown",
   "metadata": {
    "id": "l8DPx4tyB_XQ"
   },
   "source": [
    "#### 5) Modified Policy\n",
    "**(POINTS: 2)** Full points for attempt and clear explanation.\n",
    "\n",
    "Time to get creative! See if you can try a different policy that improves the mean reward. Clearly explain your strategy."
   ]
  },
  {
   "cell_type": "code",
   "execution_count": null,
   "metadata": {
    "id": "w0oF1fYbB_XQ"
   },
   "outputs": [],
   "source": []
  },
  {
   "cell_type": "markdown",
   "metadata": {
    "id": "rdTK31yrB_XQ"
   },
   "source": []
  },
  {
   "cell_type": "markdown",
   "metadata": {
    "id": "t_61H87rA_MT"
   },
   "source": [
    "---  \n",
    "\n",
    "### Wrapup\n",
    "\n",
    "This demo illustrated some basic ideas of reinforcement learning and got you started with OpenAI Gym.\n",
    "\n",
    "We will revisit this example later, bringing in more tools for a better solution.\n",
    "\n",
    "---\n"
   ]
  }
 ],
 "metadata": {
  "colab": {
   "provenance": []
  },
  "kernelspec": {
   "display_name": "Python 3 (ipykernel)",
   "language": "python",
   "name": "python3"
  },
  "language_info": {
   "codemirror_mode": {
    "name": "ipython",
    "version": 3
   },
   "file_extension": ".py",
   "mimetype": "text/x-python",
   "name": "python",
   "nbconvert_exporter": "python",
   "pygments_lexer": "ipython3",
   "version": "3.12.4"
  }
 },
 "nbformat": 4,
 "nbformat_minor": 4
}
